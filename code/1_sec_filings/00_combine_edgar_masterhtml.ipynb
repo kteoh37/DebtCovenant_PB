{
 "cells": [
  {
   "cell_type": "markdown",
   "id": "7f27f91a",
   "metadata": {},
   "source": [
    "This module is used to combine the index files for SEC filings\n",
    "- the identifiers are extracted quarter by quarter using the local code: pull_edgar_links_1 "
   ]
  },
  {
   "cell_type": "code",
   "execution_count": null,
   "id": "e4ed7b1a",
   "metadata": {},
   "outputs": [],
   "source": [
    "# !pip install sec-api\n",
    "\n",
    "import pandas as pd\n",
    "from tqdm import tqdm\n",
    "import warnings\n",
    "import re\n",
    "import os\n",
    "import numpy as np\n",
    "import boto3\n",
    "import awswrangler as wr\n",
    "import io\n",
    "\n",
    "warnings.filterwarnings('ignore')\n",
    "tqdm.pandas()\n",
    "\n",
    "#setup\n",
    "s3_resource = boto3.resource('s3')\n",
    "\n",
    "# directories\n",
    "bucket = '[your-bucket-name]'  # Replace with your bucket name\n",
    "output_prefix = f's3://{bucket}/'"
   ]
  },
  {
   "cell_type": "code",
   "execution_count": null,
   "id": "f9cc08a9",
   "metadata": {
    "scrolled": true
   },
   "outputs": [],
   "source": [
    "# extract index files\n",
    "\n",
    "# load html files\n",
    "\n",
    "edgar_dat_all = pd.DataFrame()\n",
    "\n",
    "yrstart = int(input('start year: '))\n",
    "yrend = int(input('end year: '))\n",
    "\n",
    "yrlist = range(yrstart, yrend+1)\n",
    "qtrlist = range(1,5)\n",
    "\n",
    "for yr in reversed(yrlist):\n",
    "    for qtr in qtrlist:\n",
    "        \n",
    "        print('extract text for year {} quarter {}'.format(str(yr), str(qtr)))\n",
    "\n",
    "        # read file\n",
    "        loadpath = f's3://{bucket}/edgar_masterhtml1/' + str(yr) + '-QTR' + str(qtr) + '.txt'\n",
    "        edgar_dat = wr.s3.read_csv(path=loadpath,\n",
    "                        sep='|',\n",
    "                        lineterminator='\\n',\n",
    "                        header=0)\n",
    "        edgar_dat = edgar_dat.where(pd.notnull(edgar_dat), '')\n",
    "\n",
    "        # combine\n",
    "        edgar_dat_all = edgar_dat_all.append(edgar_dat, ignore_index=True)\n"
   ]
  },
  {
   "cell_type": "code",
   "execution_count": null,
   "id": "ec9e6cc6",
   "metadata": {},
   "outputs": [],
   "source": [
    "# save file\n",
    "\n",
    "savepath = f's3://{bucket}/misc/edgar_masterhtml1_combined.gzip'\n",
    "wr.s3.to_parquet(\n",
    "    df=edgar_dat_all,\n",
    "    path=savepath,\n",
    ")"
   ]
  },
  {
   "cell_type": "code",
   "execution_count": null,
   "id": "94ac8d92",
   "metadata": {},
   "outputs": [],
   "source": [
    "# read combined index file\n",
    "\n",
    "s3_client = boto3.client('s3')\n",
    "file = f\"misc/edgar_masterhtml1_combined.gzip\"\n",
    "obj = s3_client.get_object(Bucket=bucket,Key=file)\n",
    "df = pd.read_parquet(io.BytesIO(obj['Body'].read()))\n",
    "df.head()"
   ]
  },
  {
   "cell_type": "code",
   "execution_count": null,
   "id": "ba283ce6",
   "metadata": {},
   "outputs": [],
   "source": [
    "# export as stata \n",
    "savepath = f's3://{bucket}/misc/edgar_masterhtml1_combined.csv'\n",
    "wr.s3.to_csv(\n",
    "    df=df,\n",
    "    path=savepath,\n",
    "    sep='|'\n",
    ")"
   ]
  }
 ],
 "metadata": {
  "kernelspec": {
   "display_name": "Python 3 (ipykernel)",
   "language": "python",
   "name": "python3"
  },
  "language_info": {
   "codemirror_mode": {
    "name": "ipython",
    "version": 3
   },
   "file_extension": ".py",
   "mimetype": "text/x-python",
   "name": "python",
   "nbconvert_exporter": "python",
   "pygments_lexer": "ipython3",
   "version": "3.7.16"
  }
 },
 "nbformat": 4,
 "nbformat_minor": 5
}
