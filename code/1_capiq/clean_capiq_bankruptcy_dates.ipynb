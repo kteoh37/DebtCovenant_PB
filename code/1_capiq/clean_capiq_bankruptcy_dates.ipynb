{
 "cells": [
  {
   "cell_type": "code",
   "execution_count": null,
   "metadata": {},
   "outputs": [],
   "source": [
    "import pandas as pd\n",
    "import numpy as np"
   ]
  },
  {
   "cell_type": "code",
   "execution_count": null,
   "metadata": {},
   "outputs": [],
   "source": [
    "maindir= '/Users/kenteoh/Dropbox/debt_covenant/'\n",
    "rawdir = maindir + 'rawdata_jfi_fin/capiq/'\n",
    "outdir = maindir + 'data_jfi_fin/'"
   ]
  },
  {
   "cell_type": "code",
   "execution_count": null,
   "metadata": {},
   "outputs": [],
   "source": [
    "## read data -------------------\n",
    "filepath = rawdir + 'CapIQ_Bankruptcy_Dates.xlsx'\n",
    "df = pd.read_excel(filepath, sheet_name=\"IQ_BR\", header=2)\n",
    "\n",
    "# keep relevant rows\n",
    "mask = (df['SP_ENTITY_ID'].notnull()) & (df['IQ_GVKEY'].notnull()) & (df['SP_CIQ_ID'].notnull())\n",
    "df = df[mask].reset_index(drop=True)\n",
    "\n",
    "# Expand out GVKEY\n",
    "df['gvkey'] = df['IQ_GVKEY'].str.split(',')\n",
    "df_expanded = df.explode('gvkey').drop(['IQ_GVKEY'], axis=1)\n",
    "\n",
    "# keep only observations with bankruptcy date \n",
    "mask = (df_expanded['IQ_TR_BNKY_VOL_PETITION_FILED_DATE'].notnull())\\\n",
    "    | (df_expanded['IQ_TR_BNKY_INVOL_PETITION_FILED_DATE'].notnull())\\\n",
    "    | (df_expanded['IQ_TR_BNKY_EMERGED_REORG_DATE'].notnull())\\\n",
    "    | (df_expanded['IQ_TR_BNKY_LIQUIDATED_DATE'].notnull())\\\n",
    "    | (df_expanded['IQ_TR_BNKY_DISMISSED_DATE'].notnull())\n",
    "df_expanded = df_expanded[mask].reset_index(drop=True)        \n",
    "\n",
    "## get bankruptcy dates---------\n",
    "# get date bankruptcy petition filed and resolved (if any)\n",
    "varlist = ['IQ_TR_BNKY_VOL_PETITION_FILED_DATE','IQ_TR_BNKY_INVOL_PETITION_FILED_DATE','IQ_TR_BNKY_EMERGED_REORG_DATE','IQ_TR_BNKY_LIQUIDATED_DATE','IQ_TR_BNKY_DISMISSED_DATE']\n",
    "for v in varlist:\n",
    "    df_expanded[v] = pd.to_datetime(df_expanded[v], errors='coerce')\n",
    "df_expanded['bankruptcy_filing_date'] = df_expanded[['IQ_TR_BNKY_VOL_PETITION_FILED_DATE', 'IQ_TR_BNKY_INVOL_PETITION_FILED_DATE']].min(axis=1)\n",
    "df_expanded['bankruptcy_resolution_date'] = df_expanded[['IQ_TR_BNKY_EMERGED_REORG_DATE', 'IQ_TR_BNKY_LIQUIDATED_DATE', 'IQ_TR_BNKY_DISMISSED_DATE']].min(axis=1)"
   ]
  },
  {
   "cell_type": "code",
   "execution_count": null,
   "metadata": {},
   "outputs": [],
   "source": [
    "## handle duplicates ----------------\n",
    "# keep relevant variables\n",
    "df_expanded = df_expanded[['gvkey','bankruptcy_filing_date','bankruptcy_resolution_date']]\n",
    "\n",
    "# handle duplicated gvkeys (none in this case)\n",
    "aggregation_rules = {\n",
    "    col: 'max' if np.issubdtype(df_expanded[col].dtype, np.number) else 'min'\n",
    "    for col in df_expanded.columns if col != 'gvkey'\n",
    "}\n",
    "df_unique = df_expanded.groupby('gvkey').agg(aggregation_rules).reset_index()\n",
    "df_unique['gvkey'] = df_unique['gvkey'].str[3:]"
   ]
  },
  {
   "cell_type": "code",
   "execution_count": null,
   "metadata": {},
   "outputs": [],
   "source": [
    "## split to two datasets----------\n",
    "df_filing = df_unique[['gvkey','bankruptcy_filing_date']]\n",
    "df_filing['gvkey'] = df_filing['gvkey'].astype(int)\n",
    "df_filing['bankruptcy_filing_yq'] = (df_filing['bankruptcy_filing_date'].dt.year - 1960) * 4 + df_filing['bankruptcy_filing_date'].dt.quarter - 1\n",
    "# df_filing['datecq'] =  df_filing['bankruptcy_filing_date'].dt.to_period('Q').astype(str).str.replace(r'(\\d+)-Q(\\d)', r'\\1Q\\2', regex=True)\n",
    "df_filing.drop(['bankruptcy_filing_date'], axis=1, inplace=True)\n",
    "\n",
    "df_resolution = df_unique[['gvkey','bankruptcy_resolution_date']]\n",
    "df_resolution['gvkey'] = df_resolution['gvkey'].astype(int)\n",
    "df_resolution = df_resolution[df_resolution['bankruptcy_resolution_date'].notnull()]\n",
    "df_resolution['bankruptcy_resolution_yq'] = (df_resolution['bankruptcy_resolution_date'].dt.year - 1960) * 4 + df_resolution['bankruptcy_resolution_date'].dt.quarter - 1\n",
    "# df_resolution['datecq'] =  df_resolution['bankruptcy_resolution_date'].dt.to_period('Q').astype(str).str.replace(r'(\\d+)-Q(\\d)', r'\\1Q\\2', regex=True)\n",
    "df_resolution.drop(['bankruptcy_resolution_date'], axis=1, inplace=True)\n",
    "\n",
    "# save data\n",
    "df_filing.to_stata(outdir+'CapIQ_bankruptcy_filing.dta', write_index=False)\n",
    "df_resolution.to_stata(outdir+'CapIQ_bankruptcy_resolution.dta', write_index=False)\n"
   ]
  },
  {
   "cell_type": "code",
   "execution_count": null,
   "metadata": {},
   "outputs": [],
   "source": [
    "print(df_filing.shape[0])\n",
    "print(df_resolution.shape[0])"
   ]
  },
  {
   "cell_type": "code",
   "execution_count": null,
   "metadata": {},
   "outputs": [],
   "source": []
  }
 ],
 "metadata": {
  "kernelspec": {
   "display_name": "Python 3",
   "language": "python",
   "name": "python3"
  },
  "language_info": {
   "codemirror_mode": {
    "name": "ipython",
    "version": 3
   },
   "file_extension": ".py",
   "mimetype": "text/x-python",
   "name": "python",
   "nbconvert_exporter": "python",
   "pygments_lexer": "ipython3",
   "version": "3.12.3"
  }
 },
 "nbformat": 4,
 "nbformat_minor": 4
}
