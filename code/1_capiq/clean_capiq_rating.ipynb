{
 "cells": [
  {
   "cell_type": "markdown",
   "metadata": {},
   "source": [
    "Clean Capital IQ credit rating data and prepare standardized variables for downstream use.\n"
   ]
  },
  {
   "cell_type": "code",
   "execution_count": null,
   "metadata": {},
   "outputs": [],
   "source": [
    "import pandas as pd\n",
    "import numpy as np"
   ]
  },
  {
   "cell_type": "code",
   "execution_count": null,
   "metadata": {},
   "outputs": [],
   "source": [
    "maindir= '/path/to/project/'\n",
    "rawdir = maindir + 'rawdata_jfi_fin/capiq/'\n",
    "outdir = maindir + 'data_jfi_fin/'"
   ]
  },
  {
   "cell_type": "code",
   "execution_count": null,
   "metadata": {},
   "outputs": [],
   "source": [
    "# read dataset\n",
    "filepath = rawdir + 'CapIQ_SP_Rating.xlsx'\n",
    "df = pd.read_excel(filepath, sheet_name=\"SP_ISSUER_RATING\", header=2)\n",
    "\n",
    "# keep relevant rows\n",
    "mask = (df['SP_ENTITY_ID'].notnull()) & (df['IQ_GVKEY'].notnull()) & (df['SP_CIQ_ID'].notnull())\n",
    "df = df[mask].reset_index(drop=True)\n",
    "\n",
    "# Expand out GVKEY\n",
    "df['gvkey'] = df['IQ_GVKEY'].str.split(',')\n",
    "df_expanded = df.explode('gvkey').drop(['IQ_GVKEY'], axis=1)\n",
    "\n",
    "# Define aggregation rules\n",
    "character_columns = df_expanded.filter(like='FQ').columns\n",
    "def keep_character_over_number(group):\n",
    "    result = {}\n",
    "    for col in group.columns:\n",
    "        if col in character_columns:\n",
    "            # Check if there are non-numeric (character) values and prioritize them\n",
    "            non_numeric = group[col].apply(lambda x: x if isinstance(x, str) else np.nan)\n",
    "            # Forward and backward fill non-numeric values, then take the first valid one\n",
    "            result[col] = non_numeric.ffill().bfill().iloc[0]\n",
    "        else:\n",
    "            # For non-selected columns, keep the first value\n",
    "            result[col] = group[col].iloc[0]\n",
    "    return pd.Series(result)\n",
    "\n",
    "df_unique = df_expanded.groupby('gvkey').apply(keep_character_over_number).reset_index(drop=True)\n",
    "\n",
    "# Reshape to long format\n",
    "df_long = pd.wide_to_long(df_unique, stubnames='FQ', i='gvkey', j='fyq_str').reset_index()\n",
    "\n",
    "# Select and rename relevant columns\n",
    "df_long = df_long[['gvkey', 'fyq_str', 'FQ']]\n",
    "df_long.rename(columns={'FQ': 'SP_ISSUER_RATING'}, inplace=True)\n",
    "df_long['SP_ISSUER_RATING'] = df_long['SP_ISSUER_RATING'].fillna(0)\n",
    "\n",
    "# Construct fiscal quarter variables\n",
    "df_long['fyq_str'] = df_long['fyq_str'].astype(str)\n",
    "df_long['fyearq'] = df_long['fyq_str'].str[1:]\n",
    "df_long['fqtr'] = df_long['fyq_str'].str[0]\n",
    "df_long['gvkey'] = df_long['gvkey'].str[3:]\n",
    "df_long.drop(['fyq_str'], axis=1, inplace=True)"
   ]
  },
  {
   "cell_type": "code",
   "execution_count": null,
   "metadata": {},
   "outputs": [],
   "source": [
    "# convert ratings to numerical values\n",
    "rating_mapping = {\n",
    "    \"AAA\": 1, \"AA+\": 2, \"AA\": 3, \"AA-\": 4, \"A+\": 5,\n",
    "    \"A\": 6, \"A-\": 7, \"BBB+\": 8, \"BBB\": 9, \"BBB-\": 10,\n",
    "    \"BB+\": 11, \"BB\": 12, \"BB-\": 13, \"B+\": 14, \"B\": 15,\n",
    "    \"B-\": 16, \"CCC+\": 17, \"CCC\": 18, \"CCC-\": 19, \"CC\": 20,\n",
    "    \"C\": 21, \"D\": 22, \"SD\": 22, \"NR\": 99, \"Api\": 6, \"Bpi\": 15,\n",
    "    \"BBBpi\": 9,\"BBB/NR\": 9\n",
    "}\n",
    "df_long['rating_numeric'] = df_long['SP_ISSUER_RATING'].map(rating_mapping)\n",
    "df_long['rating_numeric'] = df_long['rating_numeric'].fillna(99)\n",
    "\n",
    "# other indicators\n",
    "df_long['rating_hy'] = df_long['rating_numeric'].apply(lambda x: 1 if x in np.arange(11, 23) else 0)\n",
    "df_long['rating_ig'] = df_long['rating_numeric'].apply(lambda x: 1 if x in np.arange(1, 11) else 0)\n",
    "df_long['rating_unrated'] = df_long['rating_numeric'].apply(lambda x: 1 if x==99 else 0)\n"
   ]
  },
  {
   "cell_type": "code",
   "execution_count": null,
   "metadata": {},
   "outputs": [],
   "source": [
    "# housekeeping\n",
    "\n",
    "# handle date type\n",
    "df_long.sort_values(by=['gvkey','fyearq','fqtr'], inplace=True)\n",
    "df_long['fyearq'] = df_long['fyearq'].astype(int)\n",
    "df_long['fqtr'] = df_long['fqtr'].astype(int)\n",
    "\n",
    "# lower column nnames\n",
    "df_long.columns = [x.lower() for x in df_long.columns]\n",
    "\n",
    "# handle sp issuer rating type\n",
    "df_long.loc[df_long['sp_issuer_rating']==0,'sp_issuer_rating'] = 'UR'\n",
    "df_long['sp_issuer_rating'] = df_long['sp_issuer_rating'].astype(str)\n",
    "\n",
    "# handle gvkey type\n",
    "df_long['gvkey'] = df_long['gvkey'].astype(str).str.lstrip('0')\n",
    "df_long['gvkey'] = df_long['gvkey'].astype(int)\n",
    "\n",
    "df_long.info()"
   ]
  },
  {
   "cell_type": "code",
   "execution_count": null,
   "metadata": {},
   "outputs": [],
   "source": [
    "df_long.head()"
   ]
  },
  {
   "cell_type": "code",
   "execution_count": null,
   "metadata": {},
   "outputs": [],
   "source": [
    "# plot histogram\n",
    "\n",
    "df_long[df_long.rating_numeric!=99].sp_issuer_rating.value_counts().plot(kind='bar')"
   ]
  },
  {
   "cell_type": "code",
   "execution_count": null,
   "metadata": {},
   "outputs": [],
   "source": [
    "filepath = outdir + 'CapIQ_SP_Rating_processed.dta'\n",
    "df_long.to_stata(filepath, write_index=False)"
   ]
  }
 ],
 "metadata": {
  "kernelspec": {
   "display_name": "Python 3",
   "language": "python",
   "name": "python3"
  },
  "language_info": {
   "codemirror_mode": {
    "name": "ipython",
    "version": 3
   },
   "file_extension": ".py",
   "mimetype": "text/x-python",
   "name": "python",
   "nbconvert_exporter": "python",
   "pygments_lexer": "ipython3",
   "version": "3.12.3"
  }
 },
 "nbformat": 4,
 "nbformat_minor": 4
}